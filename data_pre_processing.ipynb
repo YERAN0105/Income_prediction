{
 "cells": [
  {
   "cell_type": "code",
   "execution_count": 87,
   "id": "initial_id",
   "metadata": {
    "collapsed": true,
    "ExecuteTime": {
     "end_time": "2024-02-21T06:03:49.117218500Z",
     "start_time": "2024-02-21T06:03:49.055127300Z"
    }
   },
   "outputs": [],
   "source": [
    "import pandas as pd\n",
    "import numpy as np"
   ]
  },
  {
   "cell_type": "code",
   "execution_count": 88,
   "outputs": [
    {
     "data": {
      "text/plain": "    age          workclass  fnlwgt   education  education-num  \\\n0   NaN                NaN   77516   Bachelors            NaN   \n1  50.0   Self-emp-not-inc   83311   Bachelors           13.0   \n\n        marital-status        occupation    relationship    race    sex  \\\n0        Never-married      Adm-clerical   Not-in-family   White   Male   \n1   Married-civ-spouse   Exec-managerial         Husband   White   Male   \n\n   capital-gain  capital-loss  hours-per-week  native-country  income  \n0          2174             0              40   United-States   <=50K  \n1             0             0              13   United-States   <=50K  ",
      "text/html": "<div>\n<style scoped>\n    .dataframe tbody tr th:only-of-type {\n        vertical-align: middle;\n    }\n\n    .dataframe tbody tr th {\n        vertical-align: top;\n    }\n\n    .dataframe thead th {\n        text-align: right;\n    }\n</style>\n<table border=\"1\" class=\"dataframe\">\n  <thead>\n    <tr style=\"text-align: right;\">\n      <th></th>\n      <th>age</th>\n      <th>workclass</th>\n      <th>fnlwgt</th>\n      <th>education</th>\n      <th>education-num</th>\n      <th>marital-status</th>\n      <th>occupation</th>\n      <th>relationship</th>\n      <th>race</th>\n      <th>sex</th>\n      <th>capital-gain</th>\n      <th>capital-loss</th>\n      <th>hours-per-week</th>\n      <th>native-country</th>\n      <th>income</th>\n    </tr>\n  </thead>\n  <tbody>\n    <tr>\n      <th>0</th>\n      <td>NaN</td>\n      <td>NaN</td>\n      <td>77516</td>\n      <td>Bachelors</td>\n      <td>NaN</td>\n      <td>Never-married</td>\n      <td>Adm-clerical</td>\n      <td>Not-in-family</td>\n      <td>White</td>\n      <td>Male</td>\n      <td>2174</td>\n      <td>0</td>\n      <td>40</td>\n      <td>United-States</td>\n      <td>&lt;=50K</td>\n    </tr>\n    <tr>\n      <th>1</th>\n      <td>50.0</td>\n      <td>Self-emp-not-inc</td>\n      <td>83311</td>\n      <td>Bachelors</td>\n      <td>13.0</td>\n      <td>Married-civ-spouse</td>\n      <td>Exec-managerial</td>\n      <td>Husband</td>\n      <td>White</td>\n      <td>Male</td>\n      <td>0</td>\n      <td>0</td>\n      <td>13</td>\n      <td>United-States</td>\n      <td>&lt;=50K</td>\n    </tr>\n  </tbody>\n</table>\n</div>"
     },
     "execution_count": 88,
     "metadata": {},
     "output_type": "execute_result"
    }
   ],
   "source": [
    "# Load the dataset\n",
    "url = 'adult/adult.data'\n",
    "column_names = ['age', 'workclass', 'fnlwgt', 'education', 'education-num', 'marital-status', 'occupation',\n",
    "                'relationship', 'race', 'sex', 'capital-gain', 'capital-loss', 'hours-per-week', 'native-country', 'income']\n",
    "data = pd.read_csv(url , names=column_names, na_values=' ?')\n",
    "\n",
    "# # Drop rows with missing values\n",
    "# data = data.dropna()\n",
    "data.head(2)\n"
   ],
   "metadata": {
    "collapsed": false,
    "ExecuteTime": {
     "end_time": "2024-02-21T06:03:49.237492500Z",
     "start_time": "2024-02-21T06:03:49.076458400Z"
    }
   },
   "id": "33bdd5d6a37d3bb0"
  },
  {
   "cell_type": "code",
   "execution_count": 89,
   "outputs": [
    {
     "name": "stdout",
     "output_type": "stream",
     "text": [
      "Duplicate Row Count: 24\n"
     ]
    },
    {
     "data": {
      "text/plain": "    age          workclass  fnlwgt   education  education-num  \\\n0   NaN                NaN   77516   Bachelors            NaN   \n1  50.0   Self-emp-not-inc   83311   Bachelors           13.0   \n\n        marital-status        occupation    relationship    race    sex  \\\n0        Never-married      Adm-clerical   Not-in-family   White   Male   \n1   Married-civ-spouse   Exec-managerial         Husband   White   Male   \n\n   capital-gain  capital-loss  hours-per-week  native-country  income  \n0          2174             0              40   United-States   <=50K  \n1             0             0              13   United-States   <=50K  ",
      "text/html": "<div>\n<style scoped>\n    .dataframe tbody tr th:only-of-type {\n        vertical-align: middle;\n    }\n\n    .dataframe tbody tr th {\n        vertical-align: top;\n    }\n\n    .dataframe thead th {\n        text-align: right;\n    }\n</style>\n<table border=\"1\" class=\"dataframe\">\n  <thead>\n    <tr style=\"text-align: right;\">\n      <th></th>\n      <th>age</th>\n      <th>workclass</th>\n      <th>fnlwgt</th>\n      <th>education</th>\n      <th>education-num</th>\n      <th>marital-status</th>\n      <th>occupation</th>\n      <th>relationship</th>\n      <th>race</th>\n      <th>sex</th>\n      <th>capital-gain</th>\n      <th>capital-loss</th>\n      <th>hours-per-week</th>\n      <th>native-country</th>\n      <th>income</th>\n    </tr>\n  </thead>\n  <tbody>\n    <tr>\n      <th>0</th>\n      <td>NaN</td>\n      <td>NaN</td>\n      <td>77516</td>\n      <td>Bachelors</td>\n      <td>NaN</td>\n      <td>Never-married</td>\n      <td>Adm-clerical</td>\n      <td>Not-in-family</td>\n      <td>White</td>\n      <td>Male</td>\n      <td>2174</td>\n      <td>0</td>\n      <td>40</td>\n      <td>United-States</td>\n      <td>&lt;=50K</td>\n    </tr>\n    <tr>\n      <th>1</th>\n      <td>50.0</td>\n      <td>Self-emp-not-inc</td>\n      <td>83311</td>\n      <td>Bachelors</td>\n      <td>13.0</td>\n      <td>Married-civ-spouse</td>\n      <td>Exec-managerial</td>\n      <td>Husband</td>\n      <td>White</td>\n      <td>Male</td>\n      <td>0</td>\n      <td>0</td>\n      <td>13</td>\n      <td>United-States</td>\n      <td>&lt;=50K</td>\n    </tr>\n  </tbody>\n</table>\n</div>"
     },
     "execution_count": 89,
     "metadata": {},
     "output_type": "execute_result"
    }
   ],
   "source": [
    "# Check for duplicate rows\n",
    "duplicate_rows = data[data.duplicated()]\n",
    "\n",
    "# Print duplicate row count\n",
    "print(\"Duplicate Row Count:\", len(duplicate_rows))\n",
    "\n",
    "# Print duplicate rows\n",
    "# print(\"Duplicate Rows:\")\n",
    "# print(duplicate_rows)\n",
    "\n",
    "# Remove duplicate rows\n",
    "data.drop_duplicates(inplace=True)\n",
    "data.head(2)"
   ],
   "metadata": {
    "collapsed": false,
    "ExecuteTime": {
     "end_time": "2024-02-21T06:03:49.385043500Z",
     "start_time": "2024-02-21T06:03:49.237492500Z"
    }
   },
   "id": "d6aeaf8af8803826"
  },
  {
   "cell_type": "code",
   "execution_count": 90,
   "outputs": [
    {
     "data": {
      "text/plain": "    age          workclass  fnlwgt   education  education-num  \\\n0  37.0            Private   77516   Bachelors           10.0   \n1  50.0   Self-emp-not-inc   83311   Bachelors           13.0   \n\n        marital-status        occupation    relationship    race    sex  \\\n0        Never-married      Adm-clerical   Not-in-family   White   Male   \n1   Married-civ-spouse   Exec-managerial         Husband   White   Male   \n\n   capital-gain  capital-loss  hours-per-week  native-country  income  \n0          2174             0              40   United-States   <=50K  \n1             0             0              13   United-States   <=50K  ",
      "text/html": "<div>\n<style scoped>\n    .dataframe tbody tr th:only-of-type {\n        vertical-align: middle;\n    }\n\n    .dataframe tbody tr th {\n        vertical-align: top;\n    }\n\n    .dataframe thead th {\n        text-align: right;\n    }\n</style>\n<table border=\"1\" class=\"dataframe\">\n  <thead>\n    <tr style=\"text-align: right;\">\n      <th></th>\n      <th>age</th>\n      <th>workclass</th>\n      <th>fnlwgt</th>\n      <th>education</th>\n      <th>education-num</th>\n      <th>marital-status</th>\n      <th>occupation</th>\n      <th>relationship</th>\n      <th>race</th>\n      <th>sex</th>\n      <th>capital-gain</th>\n      <th>capital-loss</th>\n      <th>hours-per-week</th>\n      <th>native-country</th>\n      <th>income</th>\n    </tr>\n  </thead>\n  <tbody>\n    <tr>\n      <th>0</th>\n      <td>37.0</td>\n      <td>Private</td>\n      <td>77516</td>\n      <td>Bachelors</td>\n      <td>10.0</td>\n      <td>Never-married</td>\n      <td>Adm-clerical</td>\n      <td>Not-in-family</td>\n      <td>White</td>\n      <td>Male</td>\n      <td>2174</td>\n      <td>0</td>\n      <td>40</td>\n      <td>United-States</td>\n      <td>&lt;=50K</td>\n    </tr>\n    <tr>\n      <th>1</th>\n      <td>50.0</td>\n      <td>Self-emp-not-inc</td>\n      <td>83311</td>\n      <td>Bachelors</td>\n      <td>13.0</td>\n      <td>Married-civ-spouse</td>\n      <td>Exec-managerial</td>\n      <td>Husband</td>\n      <td>White</td>\n      <td>Male</td>\n      <td>0</td>\n      <td>0</td>\n      <td>13</td>\n      <td>United-States</td>\n      <td>&lt;=50K</td>\n    </tr>\n  </tbody>\n</table>\n</div>"
     },
     "execution_count": 90,
     "metadata": {},
     "output_type": "execute_result"
    }
   ],
   "source": [
    "# Impute missing values with the most frequent value (mode) for categorical features\n",
    "for col in ['workclass', 'occupation', 'native-country']:\n",
    "    data[col].fillna(data[col].mode()[0], inplace=True)\n",
    "    \n",
    "    # Impute missing values with the median for numerical features # Impute missing values with the median for numerical features   \n",
    "for col in ['education-num', 'age']:\n",
    "    data[col].fillna(data[col].median(), inplace=True)\n",
    "\n",
    "# Drop rows with missing values in other columns\n",
    "data.dropna(inplace=True)\n",
    "data.head(2)"
   ],
   "metadata": {
    "collapsed": false,
    "ExecuteTime": {
     "end_time": "2024-02-21T06:03:49.475031100Z",
     "start_time": "2024-02-21T06:03:49.352714400Z"
    }
   },
   "id": "aeb3140281e2bdaa"
  },
  {
   "cell_type": "code",
   "execution_count": 91,
   "outputs": [
    {
     "name": "stdout",
     "output_type": "stream",
     "text": [
      "Number of categories in each column:\n",
      "age                  73\n",
      "workclass             8\n",
      "fnlwgt            21648\n",
      "education            16\n",
      "education-num        16\n",
      "marital-status        7\n",
      "occupation           14\n",
      "relationship          6\n",
      "race                  5\n",
      "sex                   2\n",
      "capital-gain        119\n",
      "capital-loss         92\n",
      "hours-per-week       94\n",
      "native-country       41\n",
      "income                2\n",
      "dtype: int64\n"
     ]
    }
   ],
   "source": [
    "category_counts = data.apply(lambda x: x.nunique())\n",
    "\n",
    "print(\"Number of categories in each column:\")\n",
    "print(category_counts)"
   ],
   "metadata": {
    "collapsed": false,
    "ExecuteTime": {
     "end_time": "2024-02-21T06:03:49.547482500Z",
     "start_time": "2024-02-21T06:03:49.429382300Z"
    }
   },
   "id": "ebf38e4ed86342fa"
  },
  {
   "cell_type": "code",
   "execution_count": 92,
   "outputs": [],
   "source": [
    "from sklearn.preprocessing import LabelEncoder\n",
    "# Encode categorical variables by replacing the categorical values with numerical labels\n",
    "label_encoders = {}\n",
    "for column in data.select_dtypes(include=['object']).columns:\n",
    "    label_encoders[column] = LabelEncoder()\n",
    "    data[column] = label_encoders[column].fit_transform(data[column])\n",
    "    \n",
    "# Split data into features and target\n",
    "X = data.drop('income', axis=1)\n",
    "y = data['income']\n",
    "\n",
    "from sklearn.model_selection import train_test_split\n",
    "# Split data into training and testing sets\n",
    "X_train, X_test, y_train, y_test = train_test_split(X, y, test_size=0.2, random_state=42)"
   ],
   "metadata": {
    "collapsed": false,
    "ExecuteTime": {
     "end_time": "2024-02-21T06:03:49.764587700Z",
     "start_time": "2024-02-21T06:03:49.466892600Z"
    }
   },
   "id": "ab2501218ce3542d"
  },
  {
   "cell_type": "code",
   "execution_count": 95,
   "outputs": [
    {
     "ename": "AttributeError",
     "evalue": "'GaussianNaiveBayes' object has no attribute 'X_by_class'",
     "output_type": "error",
     "traceback": [
      "\u001B[1;31m---------------------------------------------------------------------------\u001B[0m",
      "\u001B[1;31mAttributeError\u001B[0m                            Traceback (most recent call last)",
      "Cell \u001B[1;32mIn[95], line 43\u001B[0m\n\u001B[0;32m     40\u001B[0m nb_classifier\u001B[38;5;241m.\u001B[39mfit(X_train, y_train)\n\u001B[0;32m     42\u001B[0m X_test \u001B[38;5;241m=\u001B[39m np\u001B[38;5;241m.\u001B[39marray([[\u001B[38;5;241m1.5\u001B[39m, \u001B[38;5;241m2.5\u001B[39m], [\u001B[38;5;241m3.5\u001B[39m, \u001B[38;5;241m4.5\u001B[39m]])\n\u001B[1;32m---> 43\u001B[0m predictions \u001B[38;5;241m=\u001B[39m nb_classifier\u001B[38;5;241m.\u001B[39mpredict(X_test)\n\u001B[0;32m     44\u001B[0m \u001B[38;5;28mprint\u001B[39m(predictions)\n",
      "Cell \u001B[1;32mIn[95], line 26\u001B[0m, in \u001B[0;36mGaussianNaiveBayes.predict\u001B[1;34m(self, X)\u001B[0m\n\u001B[0;32m     24\u001B[0m posteriors \u001B[38;5;241m=\u001B[39m []\n\u001B[0;32m     25\u001B[0m \u001B[38;5;28;01mfor\u001B[39;00m i, c \u001B[38;5;129;01min\u001B[39;00m \u001B[38;5;28menumerate\u001B[39m(\u001B[38;5;28mself\u001B[39m\u001B[38;5;241m.\u001B[39mclasses):\n\u001B[1;32m---> 26\u001B[0m     prior \u001B[38;5;241m=\u001B[39m \u001B[38;5;28mself\u001B[39m\u001B[38;5;241m.\u001B[39m_calculate_prior(c)\n\u001B[0;32m     27\u001B[0m     likelihood \u001B[38;5;241m=\u001B[39m \u001B[38;5;241m1\u001B[39m\n\u001B[0;32m     28\u001B[0m     \u001B[38;5;28;01mfor\u001B[39;00m feature, params \u001B[38;5;129;01min\u001B[39;00m \u001B[38;5;28mzip\u001B[39m(x, \u001B[38;5;28mself\u001B[39m\u001B[38;5;241m.\u001B[39mparameters[i]):\n",
      "Cell \u001B[1;32mIn[95], line 17\u001B[0m, in \u001B[0;36mGaussianNaiveBayes._calculate_prior\u001B[1;34m(self, class_label)\u001B[0m\n\u001B[0;32m     16\u001B[0m \u001B[38;5;28;01mdef\u001B[39;00m \u001B[38;5;21m_calculate_prior\u001B[39m(\u001B[38;5;28mself\u001B[39m, class_label):\n\u001B[1;32m---> 17\u001B[0m     total_samples \u001B[38;5;241m=\u001B[39m np\u001B[38;5;241m.\u001B[39msum([\u001B[38;5;28mlen\u001B[39m(class_samples) \u001B[38;5;28;01mfor\u001B[39;00m class_samples \u001B[38;5;129;01min\u001B[39;00m \u001B[38;5;28mself\u001B[39m\u001B[38;5;241m.\u001B[39mX_by_class])\n\u001B[0;32m     18\u001B[0m     class_count \u001B[38;5;241m=\u001B[39m \u001B[38;5;28mlen\u001B[39m(\u001B[38;5;28mself\u001B[39m\u001B[38;5;241m.\u001B[39mX_by_class[class_label])\n\u001B[0;32m     19\u001B[0m     \u001B[38;5;28;01mreturn\u001B[39;00m class_count \u001B[38;5;241m/\u001B[39m total_samples\n",
      "\u001B[1;31mAttributeError\u001B[0m: 'GaussianNaiveBayes' object has no attribute 'X_by_class'"
     ]
    }
   ],
   "source": [],
   "metadata": {
    "collapsed": false,
    "ExecuteTime": {
     "end_time": "2024-02-21T06:06:15.033775900Z",
     "start_time": "2024-02-21T06:06:14.941228600Z"
    }
   },
   "id": "87d289dd449e9191"
  }
 ],
 "metadata": {
  "kernelspec": {
   "display_name": "Python 3",
   "language": "python",
   "name": "python3"
  },
  "language_info": {
   "codemirror_mode": {
    "name": "ipython",
    "version": 2
   },
   "file_extension": ".py",
   "mimetype": "text/x-python",
   "name": "python",
   "nbconvert_exporter": "python",
   "pygments_lexer": "ipython2",
   "version": "2.7.6"
  }
 },
 "nbformat": 4,
 "nbformat_minor": 5
}
