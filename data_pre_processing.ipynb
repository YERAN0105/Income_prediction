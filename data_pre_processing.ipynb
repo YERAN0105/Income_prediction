{
 "cells": [
  {
   "cell_type": "code",
   "execution_count": 104,
   "id": "initial_id",
   "metadata": {
    "collapsed": true,
    "ExecuteTime": {
     "end_time": "2024-02-25T11:05:22.405170500Z",
     "start_time": "2024-02-25T11:05:22.390598500Z"
    }
   },
   "outputs": [],
   "source": [
    "import pandas as pd\n",
    "import numpy as np"
   ]
  },
  {
   "cell_type": "code",
   "execution_count": 119,
   "outputs": [
    {
     "name": "stdout",
     "output_type": "stream",
     "text": [
      "        age          workclass    fnlwgt   education  education-num  \\\n",
      "0       NaN                NaN   77516.0   Bachelors            NaN   \n",
      "1      50.0   Self-emp-not-inc   83311.0   Bachelors           13.0   \n",
      "2      38.0            Private  215646.0     HS-grad            9.0   \n",
      "3      53.0            Private  234721.0        11th            7.0   \n",
      "4      28.0            Private  338409.0   Bachelors           13.0   \n",
      "...     ...                ...       ...         ...            ...   \n",
      "48837    39            Private  215419.0   Bachelors           13.0   \n",
      "48838    64                NaN  321403.0     HS-grad            9.0   \n",
      "48839    38            Private  374983.0   Bachelors           13.0   \n",
      "48840    44            Private   83891.0   Bachelors           13.0   \n",
      "48841    35       Self-emp-inc  182148.0   Bachelors           13.0   \n",
      "\n",
      "            marital-status          occupation     relationship  \\\n",
      "0            Never-married        Adm-clerical    Not-in-family   \n",
      "1       Married-civ-spouse     Exec-managerial          Husband   \n",
      "2                 Divorced   Handlers-cleaners    Not-in-family   \n",
      "3       Married-civ-spouse   Handlers-cleaners          Husband   \n",
      "4       Married-civ-spouse      Prof-specialty             Wife   \n",
      "...                    ...                 ...              ...   \n",
      "48837             Divorced      Prof-specialty    Not-in-family   \n",
      "48838              Widowed                 NaN   Other-relative   \n",
      "48839   Married-civ-spouse      Prof-specialty          Husband   \n",
      "48840             Divorced        Adm-clerical        Own-child   \n",
      "48841   Married-civ-spouse     Exec-managerial          Husband   \n",
      "\n",
      "                      race      sex  capital-gain  capital-loss  \\\n",
      "0                    White     Male        2174.0           0.0   \n",
      "1                    White     Male           0.0           0.0   \n",
      "2                    White     Male           0.0           0.0   \n",
      "3                    Black     Male           0.0           0.0   \n",
      "4                    Black   Female           0.0           0.0   \n",
      "...                    ...      ...           ...           ...   \n",
      "48837                White   Female           0.0           0.0   \n",
      "48838                Black     Male           0.0           0.0   \n",
      "48839                White     Male           0.0           0.0   \n",
      "48840   Asian-Pac-Islander     Male        5455.0           0.0   \n",
      "48841                White     Male           0.0           0.0   \n",
      "\n",
      "       hours-per-week  native-country   income  \n",
      "0                40.0   United-States    <=50K  \n",
      "1                13.0   United-States    <=50K  \n",
      "2                40.0   United-States    <=50K  \n",
      "3                40.0   United-States    <=50K  \n",
      "4                40.0            Cuba    <=50K  \n",
      "...               ...             ...      ...  \n",
      "48837            36.0   United-States   <=50K.  \n",
      "48838            40.0   United-States   <=50K.  \n",
      "48839            50.0   United-States   <=50K.  \n",
      "48840            40.0   United-States   <=50K.  \n",
      "48841            60.0   United-States    >50K.  \n",
      "\n",
      "[48842 rows x 15 columns]\n"
     ]
    }
   ],
   "source": [
    "# Load the dataset\n",
    "url = 'adult/adult.data'\n",
    "url2 = 'adult/adult.test'\n",
    "column_names = ['age', 'workclass', 'fnlwgt', 'education', 'education-num', 'marital-status', 'occupation',\n",
    "                'relationship', 'race', 'sex', 'capital-gain', 'capital-loss', 'hours-per-week', 'native-country', 'income']\n",
    "data1 = pd.read_csv(url , names=column_names, na_values=' ?')\n",
    "data2 = pd.read_csv(url2 , names=column_names, na_values=' ?')\n",
    "data2 = data2.iloc[1:]\n",
    "\n",
    "# Concatenate the two DataFrames\n",
    "data = pd.concat([data1, data2], ignore_index=True)\n",
    "\n",
    "# # Drop rows with missing values\n",
    "# data = data.dropna()\n",
    "print(data)\n"
   ],
   "metadata": {
    "collapsed": false,
    "ExecuteTime": {
     "end_time": "2024-02-26T10:12:49.272280600Z",
     "start_time": "2024-02-26T10:12:49.141245600Z"
    }
   },
   "id": "33bdd5d6a37d3bb0"
  },
  {
   "cell_type": "code",
   "execution_count": 118,
   "outputs": [
    {
     "name": "stdout",
     "output_type": "stream",
     "text": [
      "Duplicate Row Count: 29\n"
     ]
    },
    {
     "data": {
      "text/plain": "    age          workclass   fnlwgt   education  education-num  \\\n0   NaN                NaN  77516.0   Bachelors            NaN   \n1  50.0   Self-emp-not-inc  83311.0   Bachelors           13.0   \n\n        marital-status        occupation    relationship    race    sex  \\\n0        Never-married      Adm-clerical   Not-in-family   White   Male   \n1   Married-civ-spouse   Exec-managerial         Husband   White   Male   \n\n   capital-gain  capital-loss  hours-per-week  native-country  income  \n0        2174.0           0.0            40.0   United-States   <=50K  \n1           0.0           0.0            13.0   United-States   <=50K  ",
      "text/html": "<div>\n<style scoped>\n    .dataframe tbody tr th:only-of-type {\n        vertical-align: middle;\n    }\n\n    .dataframe tbody tr th {\n        vertical-align: top;\n    }\n\n    .dataframe thead th {\n        text-align: right;\n    }\n</style>\n<table border=\"1\" class=\"dataframe\">\n  <thead>\n    <tr style=\"text-align: right;\">\n      <th></th>\n      <th>age</th>\n      <th>workclass</th>\n      <th>fnlwgt</th>\n      <th>education</th>\n      <th>education-num</th>\n      <th>marital-status</th>\n      <th>occupation</th>\n      <th>relationship</th>\n      <th>race</th>\n      <th>sex</th>\n      <th>capital-gain</th>\n      <th>capital-loss</th>\n      <th>hours-per-week</th>\n      <th>native-country</th>\n      <th>income</th>\n    </tr>\n  </thead>\n  <tbody>\n    <tr>\n      <th>0</th>\n      <td>NaN</td>\n      <td>NaN</td>\n      <td>77516.0</td>\n      <td>Bachelors</td>\n      <td>NaN</td>\n      <td>Never-married</td>\n      <td>Adm-clerical</td>\n      <td>Not-in-family</td>\n      <td>White</td>\n      <td>Male</td>\n      <td>2174.0</td>\n      <td>0.0</td>\n      <td>40.0</td>\n      <td>United-States</td>\n      <td>&lt;=50K</td>\n    </tr>\n    <tr>\n      <th>1</th>\n      <td>50.0</td>\n      <td>Self-emp-not-inc</td>\n      <td>83311.0</td>\n      <td>Bachelors</td>\n      <td>13.0</td>\n      <td>Married-civ-spouse</td>\n      <td>Exec-managerial</td>\n      <td>Husband</td>\n      <td>White</td>\n      <td>Male</td>\n      <td>0.0</td>\n      <td>0.0</td>\n      <td>13.0</td>\n      <td>United-States</td>\n      <td>&lt;=50K</td>\n    </tr>\n  </tbody>\n</table>\n</div>"
     },
     "execution_count": 118,
     "metadata": {},
     "output_type": "execute_result"
    }
   ],
   "source": [
    "# Check for duplicate rows\n",
    "duplicate_rows = data[data.duplicated()]\n",
    "\n",
    "# Print duplicate row count\n",
    "print(\"Duplicate Row Count:\", len(duplicate_rows))\n",
    "\n",
    "# Print duplicate rows\n",
    "# print(\"Duplicate Rows:\")\n",
    "# print(duplicate_rows)\n",
    "\n",
    "# Remove duplicate rows\n",
    "data.drop_duplicates(inplace=True)\n",
    "data.head(2)"
   ],
   "metadata": {
    "collapsed": false,
    "ExecuteTime": {
     "end_time": "2024-02-26T10:12:14.097130Z",
     "start_time": "2024-02-26T10:12:13.971505400Z"
    }
   },
   "id": "d6aeaf8af8803826"
  },
  {
   "cell_type": "code",
   "execution_count": 107,
   "outputs": [
    {
     "data": {
      "text/plain": "    age          workclass  fnlwgt   education  education-num  \\\n0  37.0            Private   77516   Bachelors           10.0   \n1  50.0   Self-emp-not-inc   83311   Bachelors           13.0   \n\n        marital-status        occupation    relationship    race    sex  \\\n0        Never-married      Adm-clerical   Not-in-family   White   Male   \n1   Married-civ-spouse   Exec-managerial         Husband   White   Male   \n\n   capital-gain  capital-loss  hours-per-week  native-country  income  \n0          2174             0              40   United-States   <=50K  \n1             0             0              13   United-States   <=50K  ",
      "text/html": "<div>\n<style scoped>\n    .dataframe tbody tr th:only-of-type {\n        vertical-align: middle;\n    }\n\n    .dataframe tbody tr th {\n        vertical-align: top;\n    }\n\n    .dataframe thead th {\n        text-align: right;\n    }\n</style>\n<table border=\"1\" class=\"dataframe\">\n  <thead>\n    <tr style=\"text-align: right;\">\n      <th></th>\n      <th>age</th>\n      <th>workclass</th>\n      <th>fnlwgt</th>\n      <th>education</th>\n      <th>education-num</th>\n      <th>marital-status</th>\n      <th>occupation</th>\n      <th>relationship</th>\n      <th>race</th>\n      <th>sex</th>\n      <th>capital-gain</th>\n      <th>capital-loss</th>\n      <th>hours-per-week</th>\n      <th>native-country</th>\n      <th>income</th>\n    </tr>\n  </thead>\n  <tbody>\n    <tr>\n      <th>0</th>\n      <td>37.0</td>\n      <td>Private</td>\n      <td>77516</td>\n      <td>Bachelors</td>\n      <td>10.0</td>\n      <td>Never-married</td>\n      <td>Adm-clerical</td>\n      <td>Not-in-family</td>\n      <td>White</td>\n      <td>Male</td>\n      <td>2174</td>\n      <td>0</td>\n      <td>40</td>\n      <td>United-States</td>\n      <td>&lt;=50K</td>\n    </tr>\n    <tr>\n      <th>1</th>\n      <td>50.0</td>\n      <td>Self-emp-not-inc</td>\n      <td>83311</td>\n      <td>Bachelors</td>\n      <td>13.0</td>\n      <td>Married-civ-spouse</td>\n      <td>Exec-managerial</td>\n      <td>Husband</td>\n      <td>White</td>\n      <td>Male</td>\n      <td>0</td>\n      <td>0</td>\n      <td>13</td>\n      <td>United-States</td>\n      <td>&lt;=50K</td>\n    </tr>\n  </tbody>\n</table>\n</div>"
     },
     "execution_count": 107,
     "metadata": {},
     "output_type": "execute_result"
    }
   ],
   "source": [
    "# Impute missing values with the most frequent value (mode) for categorical features\n",
    "for col in ['workclass', 'occupation', 'native-country']:\n",
    "    data[col].fillna(data[col].mode()[0], inplace=True)\n",
    "    \n",
    "    # Impute missing values with the median for numerical features # Impute missing values with the median for numerical features   \n",
    "for col in ['education-num', 'age']:\n",
    "    data[col].fillna(data[col].median(), inplace=True)\n",
    "\n",
    "# Drop rows with missing values in other columns\n",
    "data.dropna(inplace=True)\n",
    "data.head(2)"
   ],
   "metadata": {
    "collapsed": false,
    "ExecuteTime": {
     "end_time": "2024-02-25T11:05:22.711606Z",
     "start_time": "2024-02-25T11:05:22.638253800Z"
    }
   },
   "id": "aeb3140281e2bdaa"
  },
  {
   "cell_type": "code",
   "execution_count": 108,
   "outputs": [
    {
     "name": "stdout",
     "output_type": "stream",
     "text": [
      "Number of categories in each column:\n",
      "age                  73\n",
      "workclass             8\n",
      "fnlwgt            21648\n",
      "education            16\n",
      "education-num        16\n",
      "marital-status        7\n",
      "occupation           14\n",
      "relationship          6\n",
      "race                  5\n",
      "sex                   2\n",
      "capital-gain        119\n",
      "capital-loss         92\n",
      "hours-per-week       94\n",
      "native-country       41\n",
      "income                2\n",
      "dtype: int64\n"
     ]
    }
   ],
   "source": [
    "category_counts = data.apply(lambda x: x.nunique())\n",
    "\n",
    "print(\"Number of categories in each column:\")\n",
    "print(category_counts)"
   ],
   "metadata": {
    "collapsed": false,
    "ExecuteTime": {
     "end_time": "2024-02-25T11:05:22.755551100Z",
     "start_time": "2024-02-25T11:05:22.687617700Z"
    }
   },
   "id": "ebf38e4ed86342fa"
  },
  {
   "cell_type": "code",
   "execution_count": 109,
   "outputs": [],
   "source": [
    "from sklearn.preprocessing import LabelEncoder\n",
    "# Encode categorical variables by replacing the categorical values with numerical labels\n",
    "label_encoders = {}\n",
    "for column in data.select_dtypes(include=['object']).columns:\n",
    "    label_encoders[column] = LabelEncoder()\n",
    "    data[column] = label_encoders[column].fit_transform(data[column])\n",
    "    \n",
    "# Split data into features and target\n",
    "X = data.drop('income', axis=1)\n",
    "y = data['income']\n",
    "\n",
    "from sklearn.model_selection import train_test_split\n",
    "# Split data into training and testing sets\n",
    "X_train, X_test, y_train, y_test = train_test_split(X, y, test_size=0.2, random_state=42)"
   ],
   "metadata": {
    "collapsed": false,
    "ExecuteTime": {
     "end_time": "2024-02-25T11:05:23.038889200Z",
     "start_time": "2024-02-25T11:05:22.731569700Z"
    }
   },
   "id": "ab2501218ce3542d"
  },
  {
   "cell_type": "code",
   "execution_count": 110,
   "outputs": [
    {
     "data": {
      "text/plain": "RandomForestClassifier(random_state=42)",
      "text/html": "<style>#sk-container-id-1 {color: black;}#sk-container-id-1 pre{padding: 0;}#sk-container-id-1 div.sk-toggleable {background-color: white;}#sk-container-id-1 label.sk-toggleable__label {cursor: pointer;display: block;width: 100%;margin-bottom: 0;padding: 0.3em;box-sizing: border-box;text-align: center;}#sk-container-id-1 label.sk-toggleable__label-arrow:before {content: \"▸\";float: left;margin-right: 0.25em;color: #696969;}#sk-container-id-1 label.sk-toggleable__label-arrow:hover:before {color: black;}#sk-container-id-1 div.sk-estimator:hover label.sk-toggleable__label-arrow:before {color: black;}#sk-container-id-1 div.sk-toggleable__content {max-height: 0;max-width: 0;overflow: hidden;text-align: left;background-color: #f0f8ff;}#sk-container-id-1 div.sk-toggleable__content pre {margin: 0.2em;color: black;border-radius: 0.25em;background-color: #f0f8ff;}#sk-container-id-1 input.sk-toggleable__control:checked~div.sk-toggleable__content {max-height: 200px;max-width: 100%;overflow: auto;}#sk-container-id-1 input.sk-toggleable__control:checked~label.sk-toggleable__label-arrow:before {content: \"▾\";}#sk-container-id-1 div.sk-estimator input.sk-toggleable__control:checked~label.sk-toggleable__label {background-color: #d4ebff;}#sk-container-id-1 div.sk-label input.sk-toggleable__control:checked~label.sk-toggleable__label {background-color: #d4ebff;}#sk-container-id-1 input.sk-hidden--visually {border: 0;clip: rect(1px 1px 1px 1px);clip: rect(1px, 1px, 1px, 1px);height: 1px;margin: -1px;overflow: hidden;padding: 0;position: absolute;width: 1px;}#sk-container-id-1 div.sk-estimator {font-family: monospace;background-color: #f0f8ff;border: 1px dotted black;border-radius: 0.25em;box-sizing: border-box;margin-bottom: 0.5em;}#sk-container-id-1 div.sk-estimator:hover {background-color: #d4ebff;}#sk-container-id-1 div.sk-parallel-item::after {content: \"\";width: 100%;border-bottom: 1px solid gray;flex-grow: 1;}#sk-container-id-1 div.sk-label:hover label.sk-toggleable__label {background-color: #d4ebff;}#sk-container-id-1 div.sk-serial::before {content: \"\";position: absolute;border-left: 1px solid gray;box-sizing: border-box;top: 0;bottom: 0;left: 50%;z-index: 0;}#sk-container-id-1 div.sk-serial {display: flex;flex-direction: column;align-items: center;background-color: white;padding-right: 0.2em;padding-left: 0.2em;position: relative;}#sk-container-id-1 div.sk-item {position: relative;z-index: 1;}#sk-container-id-1 div.sk-parallel {display: flex;align-items: stretch;justify-content: center;background-color: white;position: relative;}#sk-container-id-1 div.sk-item::before, #sk-container-id-1 div.sk-parallel-item::before {content: \"\";position: absolute;border-left: 1px solid gray;box-sizing: border-box;top: 0;bottom: 0;left: 50%;z-index: -1;}#sk-container-id-1 div.sk-parallel-item {display: flex;flex-direction: column;z-index: 1;position: relative;background-color: white;}#sk-container-id-1 div.sk-parallel-item:first-child::after {align-self: flex-end;width: 50%;}#sk-container-id-1 div.sk-parallel-item:last-child::after {align-self: flex-start;width: 50%;}#sk-container-id-1 div.sk-parallel-item:only-child::after {width: 0;}#sk-container-id-1 div.sk-dashed-wrapped {border: 1px dashed gray;margin: 0 0.4em 0.5em 0.4em;box-sizing: border-box;padding-bottom: 0.4em;background-color: white;}#sk-container-id-1 div.sk-label label {font-family: monospace;font-weight: bold;display: inline-block;line-height: 1.2em;}#sk-container-id-1 div.sk-label-container {text-align: center;}#sk-container-id-1 div.sk-container {/* jupyter's `normalize.less` sets `[hidden] { display: none; }` but bootstrap.min.css set `[hidden] { display: none !important; }` so we also need the `!important` here to be able to override the default hidden behavior on the sphinx rendered scikit-learn.org. See: https://github.com/scikit-learn/scikit-learn/issues/21755 */display: inline-block !important;position: relative;}#sk-container-id-1 div.sk-text-repr-fallback {display: none;}</style><div id=\"sk-container-id-1\" class=\"sk-top-container\"><div class=\"sk-text-repr-fallback\"><pre>RandomForestClassifier(random_state=42)</pre><b>In a Jupyter environment, please rerun this cell to show the HTML representation or trust the notebook. <br />On GitHub, the HTML representation is unable to render, please try loading this page with nbviewer.org.</b></div><div class=\"sk-container\" hidden><div class=\"sk-item\"><div class=\"sk-estimator sk-toggleable\"><input class=\"sk-toggleable__control sk-hidden--visually\" id=\"sk-estimator-id-1\" type=\"checkbox\" checked><label for=\"sk-estimator-id-1\" class=\"sk-toggleable__label sk-toggleable__label-arrow\">RandomForestClassifier</label><div class=\"sk-toggleable__content\"><pre>RandomForestClassifier(random_state=42)</pre></div></div></div></div></div>"
     },
     "execution_count": 110,
     "metadata": {},
     "output_type": "execute_result"
    }
   ],
   "source": [
    "from sklearn.naive_bayes import GaussianNB\n",
    "# Step 2: Model Training\n",
    "# Train Naïve Bayes model\n",
    "nb_model = GaussianNB()\n",
    "nb_model.fit(X_train, y_train)\n",
    "\n",
    "from sklearn.ensemble import RandomForestClassifier\n",
    "# Train Random Forest model\n",
    "rf_model = RandomForestClassifier(random_state=42)\n",
    "rf_model.fit(X_train, y_train)"
   ],
   "metadata": {
    "collapsed": false,
    "ExecuteTime": {
     "end_time": "2024-02-25T11:05:28.585968Z",
     "start_time": "2024-02-25T11:05:22.838757Z"
    }
   },
   "id": "87d289dd449e9191"
  },
  {
   "cell_type": "code",
   "execution_count": 111,
   "outputs": [
    {
     "name": "stdout",
     "output_type": "stream",
     "text": [
      "Naïve Bayes Accuracy: 0.7913337430854334\n",
      "Naïve Bayes Classification Report:\n",
      "               precision    recall  f1-score   support\n",
      "\n",
      "           0       0.81      0.94      0.87      4905\n",
      "           1       0.65      0.33      0.44      1603\n",
      "\n",
      "    accuracy                           0.79      6508\n",
      "   macro avg       0.73      0.64      0.65      6508\n",
      "weighted avg       0.77      0.79      0.76      6508\n",
      "\n",
      "Naïve Bayes Confusion Matrix:\n",
      " [[4625  280]\n",
      " [1078  525]]\n"
     ]
    }
   ],
   "source": [
    "from sklearn.metrics import accuracy_score, classification_report, confusion_matrix\n",
    "#Step 3: Model Evaluation\n",
    "# Evaluate Naïve Bayes model\n",
    "nb_pred = nb_model.predict(X_test)\n",
    "nb_accuracy = accuracy_score(y_test, nb_pred)\n",
    "print(\"Naïve Bayes Accuracy:\", nb_accuracy)\n",
    "print(\"Naïve Bayes Classification Report:\\n\", classification_report(y_test, nb_pred))\n",
    "print(\"Naïve Bayes Confusion Matrix:\\n\", confusion_matrix(y_test, nb_pred))"
   ],
   "metadata": {
    "collapsed": false,
    "ExecuteTime": {
     "end_time": "2024-02-25T11:05:28.726936200Z",
     "start_time": "2024-02-25T11:05:28.585968Z"
    }
   },
   "id": "e0683e668d006d92"
  },
  {
   "cell_type": "code",
   "execution_count": 112,
   "outputs": [
    {
     "name": "stdout",
     "output_type": "stream",
     "text": [
      "\n",
      "Random Forest Accuracy: 0.8598647818070068\n",
      "Random Forest Classification Report:\n",
      "               precision    recall  f1-score   support\n",
      "\n",
      "           0       0.89      0.93      0.91      4905\n",
      "           1       0.76      0.63      0.69      1603\n",
      "\n",
      "    accuracy                           0.86      6508\n",
      "   macro avg       0.82      0.78      0.80      6508\n",
      "weighted avg       0.85      0.86      0.86      6508\n",
      "\n",
      "Random Forest Confusion Matrix:\n",
      " [[4579  326]\n",
      " [ 586 1017]]\n"
     ]
    }
   ],
   "source": [
    "# Evaluate Random Forest model\n",
    "rf_pred = rf_model.predict(X_test)\n",
    "rf_accuracy = accuracy_score(y_test, rf_pred)\n",
    "print(\"\\nRandom Forest Accuracy:\", rf_accuracy)\n",
    "print(\"Random Forest Classification Report:\\n\", classification_report(y_test, rf_pred))\n",
    "print(\"Random Forest Confusion Matrix:\\n\", confusion_matrix(y_test, rf_pred))"
   ],
   "metadata": {
    "collapsed": false,
    "ExecuteTime": {
     "end_time": "2024-02-25T11:05:28.905414700Z",
     "start_time": "2024-02-25T11:05:28.615989600Z"
    }
   },
   "id": "e9478d5e16e46a58"
  },
  {
   "cell_type": "code",
   "execution_count": 113,
   "outputs": [
    {
     "name": "stdout",
     "output_type": "stream",
     "text": [
      "\n",
      "Model Comparison:\n",
      "Naïve Bayes Accuracy: 0.7913337430854334\n",
      "Random Forest Accuracy: 0.8598647818070068\n"
     ]
    }
   ],
   "source": [
    "# Step 4: Model Comparison\n",
    "print(\"\\nModel Comparison:\")\n",
    "print(\"Naïve Bayes Accuracy:\", nb_accuracy)\n",
    "print(\"Random Forest Accuracy:\", rf_accuracy)"
   ],
   "metadata": {
    "collapsed": false,
    "ExecuteTime": {
     "end_time": "2024-02-25T11:05:28.905414700Z",
     "start_time": "2024-02-25T11:05:28.905414700Z"
    }
   },
   "id": "3157b248edd41db6"
  }
 ],
 "metadata": {
  "kernelspec": {
   "display_name": "Python 3",
   "language": "python",
   "name": "python3"
  },
  "language_info": {
   "codemirror_mode": {
    "name": "ipython",
    "version": 2
   },
   "file_extension": ".py",
   "mimetype": "text/x-python",
   "name": "python",
   "nbconvert_exporter": "python",
   "pygments_lexer": "ipython2",
   "version": "2.7.6"
  }
 },
 "nbformat": 4,
 "nbformat_minor": 5
}
